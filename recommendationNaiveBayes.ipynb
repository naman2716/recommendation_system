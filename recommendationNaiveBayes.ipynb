{
 "cells": [
  {
   "cell_type": "code",
   "execution_count": 1,
   "metadata": {},
   "outputs": [],
   "source": [
    "import numpy as np"
   ]
  },
  {
   "cell_type": "code",
   "execution_count": null,
   "metadata": {},
   "outputs": [],
   "source": []
  },
  {
   "cell_type": "code",
   "execution_count": 2,
   "metadata": {},
   "outputs": [],
   "source": [
    "def fit(x_train , y_train):\n",
    "    result = {}\n",
    "    class_values = y_train\n",
    "    for class_current in class_values:\n",
    "        result[class_current] = {}\n",
    "        result[\"total_data\"] = len(y_train)\n",
    "        current_class_rows = (y_train == class_current)\n",
    "        x_train_current = x_train[current_class_rows]\n",
    "        y_train_current = y_train[current_class_rows]\n",
    "        result[class_current][\"total_count\"] = len(y_train_current)\n",
    "        num_feature = x_train.shape[1]\n",
    "        for j in range(1 , num_feature+1):\n",
    "            j_1 = j - 1\n",
    "            result[class_current][j] = {}\n",
    "            all_possible_values = set(x_train[: , j_1])\n",
    "            for current_value in all_possible_values:\n",
    "                result[class_current][j][current_value] = (x_train_current == current_value).sum()\n",
    "    return result"
   ]
  },
  {
   "cell_type": "code",
   "execution_count": null,
   "metadata": {},
   "outputs": [],
   "source": []
  },
  {
   "cell_type": "code",
   "execution_count": 3,
   "metadata": {},
   "outputs": [],
   "source": [
    "def probablity(dictionary , x , current_class):\n",
    "    output = np.log(dictionary[current_class][\"total_count\"]) - np.log(dictionary[\"total_data\"])\n",
    "    num_features = len(dictionary[current_class].keys()) - 1\n",
    "    for j in range(1,num_features+1):\n",
    "        xj = x[j - 1]\n",
    "        count_current_class_with_value_xj = dictionary[current_class][j][xj] + 1\n",
    "        count_current_class = dictionary[current_class][\"total_count\"] + len(dictionary[current_class][j].keys())\n",
    "        current_xj_probablity = np.log(count_current_class_with_value_xj) - np.log(count_current_class)\n",
    "        output = output + current_xj_probablity\n",
    "    return output"
   ]
  },
  {
   "cell_type": "code",
   "execution_count": 4,
   "metadata": {},
   "outputs": [],
   "source": [
    "def predictsinglepoint(dictionary , x):\n",
    "    classes = dictionary.keys()\n",
    "    best_probablity = -1000\n",
    "    best_class = -1\n",
    "    first_run = True\n",
    "    for current_class in classes:\n",
    "        if current_class == \"total_data\":\n",
    "            continue\n",
    "        p_current_class = probablity(dictionary , x , current_class)\n",
    "        if first_run or best_probablity < p_current_class:\n",
    "            best_probablity = p_current_class\n",
    "            best_class = current_class\n",
    "        first_run = False\n",
    "    return best_class"
   ]
  },
  {
   "cell_type": "code",
   "execution_count": 5,
   "metadata": {},
   "outputs": [],
   "source": [
    "def predict(dictionary , x_test):\n",
    "    y_pred = []\n",
    "    \n",
    "    for x in x_test:\n",
    "        x_class = predictsinglepoint(dictionary , x)\n",
    "        y_pred.append(x_class)\n",
    "    return y_pred"
   ]
  },
  {
   "cell_type": "code",
   "execution_count": 6,
   "metadata": {},
   "outputs": [],
   "source": [
    "def makelabel(column):\n",
    "    second_limit = column.mean()\n",
    "    first_limit = 0.5 * column.mean()\n",
    "    third_limit = 1.5 * column.mean()\n",
    "    \n",
    "    for i in range(len(column)):\n",
    "        if column[i] <= first_limit:\n",
    "            column[i] = 0\n",
    "        elif column[i] > first_limit and column[i] <= second_limit:\n",
    "            column[i] = 1\n",
    "        elif column[i] > second_limit and column[i] <= third_limit:\n",
    "            column[i] = 2\n",
    "        elif column[i] > third_limit:\n",
    "            column[i] = 3\n",
    "    return column"
   ]
  },
  {
   "cell_type": "code",
   "execution_count": 7,
   "metadata": {},
   "outputs": [
    {
     "data": {
      "text/plain": [
       "array([[1.0e+00, 5.0e+00, 2.0e+03, 1.0e+00],\n",
       "       [2.0e+00, 8.0e+00, 2.0e+03, 1.0e+00],\n",
       "       [3.0e+00, 4.0e+00, 2.0e+03, 2.0e+00],\n",
       "       [4.0e+00, 5.0e+00, 6.0e+03, 2.0e+00],\n",
       "       [5.0e+00, 8.0e+00, 1.0e+03, 3.0e+00],\n",
       "       [6.0e+00, 5.0e+00, 6.0e+03, 2.0e+00],\n",
       "       [7.0e+00, 8.0e+00, 6.0e+03, 1.0e+00],\n",
       "       [8.0e+00, 4.0e+00, 5.0e+03, 4.0e+00],\n",
       "       [9.0e+00, 8.0e+00, 5.0e+03, 3.0e+00],\n",
       "       [1.0e+01, 3.0e+00, 3.0e+03, 3.0e+00],\n",
       "       [1.1e+01, 7.0e+00, 2.0e+03, 5.0e+00],\n",
       "       [1.2e+01, 1.0e+00, 5.0e+03, 1.0e+00],\n",
       "       [1.3e+01, 5.0e+00, 6.0e+03, 4.0e+00],\n",
       "       [1.4e+01, 8.0e+00, 5.0e+03, 6.0e+00],\n",
       "       [1.5e+01, 5.0e+00, 1.0e+03, 3.0e+00],\n",
       "       [1.6e+01, 8.0e+00, 4.0e+03, 2.0e+00],\n",
       "       [1.7e+01, 4.0e+00, 2.0e+03, 6.0e+00],\n",
       "       [1.8e+01, 4.0e+00, 4.0e+03, 4.0e+00],\n",
       "       [1.9e+01, 1.0e+00, 1.0e+03, 5.0e+00],\n",
       "       [2.0e+01, 3.0e+00, 4.0e+03, 4.0e+00],\n",
       "       [2.1e+01, 8.0e+00, 4.0e+03, 3.0e+00],\n",
       "       [2.2e+01, 8.0e+00, 5.0e+03, 6.0e+00],\n",
       "       [2.3e+01, 8.0e+00, 6.0e+03, 1.0e+00],\n",
       "       [2.4e+01, 4.0e+00, 2.0e+03, 3.0e+00],\n",
       "       [2.5e+01, 8.0e+00, 1.0e+03, 5.0e+00],\n",
       "       [2.6e+01, 7.0e+00, 3.0e+03, 5.0e+00],\n",
       "       [2.7e+01, 8.0e+00, 6.0e+03, 6.0e+00],\n",
       "       [2.8e+01, 5.0e+00, 3.0e+03, 6.0e+00],\n",
       "       [2.9e+01, 3.0e+00, 3.0e+03, 1.0e+00],\n",
       "       [3.0e+01, 7.0e+00, 2.0e+03, 4.0e+00],\n",
       "       [3.1e+01, 3.0e+00, 6.0e+03, 4.0e+00],\n",
       "       [3.2e+01, 7.0e+00, 5.0e+03, 5.0e+00],\n",
       "       [3.3e+01, 5.0e+00, 3.0e+03, 4.0e+00],\n",
       "       [3.4e+01, 8.0e+00, 2.0e+03, 3.0e+00],\n",
       "       [3.5e+01, 3.0e+00, 1.0e+03, 3.0e+00],\n",
       "       [3.6e+01, 1.0e+00, 5.0e+03, 5.0e+00],\n",
       "       [3.7e+01, 4.0e+00, 2.0e+03, 3.0e+00],\n",
       "       [3.8e+01, 1.0e+00, 3.0e+03, 4.0e+00],\n",
       "       [3.9e+01, 3.0e+00, 4.0e+03, 5.0e+00],\n",
       "       [4.0e+01, 5.0e+00, 5.0e+03, 3.0e+00],\n",
       "       [4.1e+01, 5.0e+00, 6.0e+03, 1.0e+00],\n",
       "       [4.2e+01, 5.0e+00, 5.0e+03, 1.0e+00],\n",
       "       [4.3e+01, 4.0e+00, 2.0e+03, 2.0e+00],\n",
       "       [4.4e+01, 1.0e+00, 6.0e+03, 4.0e+00],\n",
       "       [4.5e+01, 5.0e+00, 3.0e+03, 5.0e+00],\n",
       "       [4.6e+01, 3.0e+00, 2.0e+03, 5.0e+00],\n",
       "       [4.7e+01, 1.0e+00, 3.0e+03, 4.0e+00],\n",
       "       [4.8e+01, 5.0e+00, 1.0e+03, 1.0e+00],\n",
       "       [4.9e+01, 1.0e+00, 6.0e+03, 2.0e+00],\n",
       "       [5.0e+01, 7.0e+00, 3.0e+03, 1.0e+00],\n",
       "       [5.1e+01, 8.0e+00, 3.0e+03, 6.0e+00],\n",
       "       [5.2e+01, 5.0e+00, 1.0e+03, 3.0e+00],\n",
       "       [5.3e+01, 7.0e+00, 2.0e+03, 1.0e+00],\n",
       "       [5.4e+01, 5.0e+00, 2.0e+03, 5.0e+00],\n",
       "       [5.5e+01, 8.0e+00, 4.0e+03, 6.0e+00],\n",
       "       [5.6e+01, 7.0e+00, 4.0e+03, 1.0e+00],\n",
       "       [5.7e+01, 8.0e+00, 3.0e+03, 1.0e+00],\n",
       "       [5.8e+01, 3.0e+00, 2.0e+03, 5.0e+00],\n",
       "       [5.9e+01, 1.0e+00, 2.0e+03, 5.0e+00],\n",
       "       [6.0e+01, 8.0e+00, 3.0e+03, 3.0e+00],\n",
       "       [6.1e+01, 5.0e+00, 6.0e+03, 2.0e+00],\n",
       "       [6.2e+01, 1.0e+00, 2.0e+03, 6.0e+00],\n",
       "       [6.3e+01, 8.0e+00, 3.0e+03, 3.0e+00],\n",
       "       [6.4e+01, 4.0e+00, 4.0e+03, 4.0e+00],\n",
       "       [6.5e+01, 8.0e+00, 4.0e+03, 5.0e+00],\n",
       "       [6.6e+01, 5.0e+00, 5.0e+03, 6.0e+00],\n",
       "       [6.7e+01, 8.0e+00, 6.0e+03, 2.0e+00],\n",
       "       [6.8e+01, 5.0e+00, 5.0e+03, 5.0e+00],\n",
       "       [6.9e+01, 1.0e+00, 6.0e+03, 5.0e+00],\n",
       "       [7.0e+01, 1.0e+00, 5.0e+03, 1.0e+00],\n",
       "       [6.9e+01, 7.0e+00, 5.0e+03, 5.0e+00]])"
      ]
     },
     "execution_count": 7,
     "metadata": {},
     "output_type": "execute_result"
    }
   ],
   "source": [
    "data = np.genfromtxt('customer_history.csv' , delimiter = ',')\n",
    "data = data[1: , :]\n",
    "data"
   ]
  },
  {
   "cell_type": "code",
   "execution_count": null,
   "metadata": {},
   "outputs": [],
   "source": []
  },
  {
   "cell_type": "code",
   "execution_count": null,
   "metadata": {},
   "outputs": [],
   "source": []
  },
  {
   "cell_type": "code",
   "execution_count": 8,
   "metadata": {},
   "outputs": [
    {
     "ename": "NameError",
     "evalue": "name 'X' is not defined",
     "output_type": "error",
     "traceback": [
      "\u001b[1;31m---------------------------------------------------------------------------\u001b[0m",
      "\u001b[1;31mNameError\u001b[0m                                 Traceback (most recent call last)",
      "\u001b[1;32m<ipython-input-8-bef11c634b68>\u001b[0m in \u001b[0;36m<module>\u001b[1;34m()\u001b[0m\n\u001b[1;32m----> 1\u001b[1;33m \u001b[1;32mfor\u001b[0m \u001b[0mi\u001b[0m \u001b[1;32min\u001b[0m \u001b[0mrange\u001b[0m\u001b[1;33m(\u001b[0m\u001b[1;36m0\u001b[0m \u001b[1;33m,\u001b[0m \u001b[0mX\u001b[0m\u001b[1;33m.\u001b[0m\u001b[0mshape\u001b[0m\u001b[1;33m[\u001b[0m\u001b[1;33m-\u001b[0m\u001b[1;36m1\u001b[0m\u001b[1;33m]\u001b[0m\u001b[1;33m)\u001b[0m\u001b[1;33m:\u001b[0m\u001b[1;33m\u001b[0m\u001b[0m\n\u001b[0m\u001b[0;32m      2\u001b[0m     \u001b[0mX\u001b[0m\u001b[1;33m[\u001b[0m\u001b[1;33m:\u001b[0m \u001b[1;33m,\u001b[0m \u001b[0mi\u001b[0m\u001b[1;33m]\u001b[0m \u001b[1;33m=\u001b[0m \u001b[0mmakelabel\u001b[0m\u001b[1;33m(\u001b[0m\u001b[0mX\u001b[0m\u001b[1;33m[\u001b[0m\u001b[1;33m:\u001b[0m \u001b[1;33m,\u001b[0m \u001b[0mi\u001b[0m\u001b[1;33m]\u001b[0m\u001b[1;33m)\u001b[0m\u001b[1;33m\u001b[0m\u001b[0m\n",
      "\u001b[1;31mNameError\u001b[0m: name 'X' is not defined"
     ]
    }
   ],
   "source": [
    "for i in range(0 , X.shape[-1]):\n",
    "    X[: , i] = makelabel(X[: , i])"
   ]
  },
  {
   "cell_type": "code",
   "execution_count": null,
   "metadata": {},
   "outputs": [],
   "source": [
    "from sklearn import model_selection\n",
    "x_train , x_test , y_train , y_test = model_selection.train_test_split(X , Y , test_size = 0.25 , random_state = 0) "
   ]
  },
  {
   "cell_type": "code",
   "execution_count": null,
   "metadata": {
    "scrolled": true
   },
   "outputs": [],
   "source": [
    "dictionary = fit(x_train , y_train)"
   ]
  },
  {
   "cell_type": "code",
   "execution_count": null,
   "metadata": {},
   "outputs": [],
   "source": [
    "y_pred = predict(dictionary , x_test)"
   ]
  },
  {
   "cell_type": "code",
   "execution_count": null,
   "metadata": {},
   "outputs": [],
   "source": [
    "from sklearn.metrics import classification_report, confusion_matrix\n",
    "print(classification_report(y_test , y_pred))\n",
    "print(confusion_matrix(y_test , y_pred))"
   ]
  },
  {
   "cell_type": "code",
   "execution_count": null,
   "metadata": {},
   "outputs": [],
   "source": [
    "from sklearn.naive_bayes import GaussianNB\n",
    "clf = GaussianNB()\n",
    "clf.fit(x_train , y_train)\n",
    "y_pred = clf.predict(x_test)\n",
    "print(classification_report(y_test , y_pred))\n",
    "print(confusion_matrix(y_test , y_pred))"
   ]
  },
  {
   "cell_type": "code",
   "execution_count": null,
   "metadata": {},
   "outputs": [],
   "source": [
    "from sklearn.naive_bayes import MultinomialNB\n",
    "clf = MultinomialNB()\n",
    "clf.fit(x_train , y_train)\n",
    "y_pred = clf.predict(x_test)\n",
    "print(classification_report(y_test , y_pred))\n",
    "print(confusion_matrix(y_test , y_pred))"
   ]
  },
  {
   "cell_type": "code",
   "execution_count": null,
   "metadata": {},
   "outputs": [],
   "source": [
    "y_pred"
   ]
  }
 ],
 "metadata": {
  "kernelspec": {
   "display_name": "Python 3",
   "language": "python",
   "name": "python3"
  },
  "language_info": {
   "codemirror_mode": {
    "name": "ipython",
    "version": 3
   },
   "file_extension": ".py",
   "mimetype": "text/x-python",
   "name": "python",
   "nbconvert_exporter": "python",
   "pygments_lexer": "ipython3",
   "version": "3.6.4"
  }
 },
 "nbformat": 4,
 "nbformat_minor": 2
}
